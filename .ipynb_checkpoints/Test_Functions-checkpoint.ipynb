{
 "cells": [
  {
   "cell_type": "code",
   "execution_count": null,
   "metadata": {},
   "outputs": [],
   "source": [
    "%reset\n",
    "\n",
    "from addons import amath\n",
    "import numpy as np\n",
    "import time\n",
    "\n",
    "test_set = np.arange(2, 10, 1)\n",
    "print(test_set)\n",
    "for n in test_set:\n",
    "    start_time = time.time()\n",
    "    y1 = amath.ncr(n, r=2)\n",
    "    es_1 = time.time() - start_time\n",
    "    \n",
    "    start_time\n",
    "    y2 = amath.ncr2(n)\n",
    "    es_2 = time.time() - start_time\n",
    "    print((y1, y2), end='method 1 faster?')\n",
    "    print(es_1< es_2)"
   ]
  }
 ],
 "metadata": {
  "kernelspec": {
   "display_name": "Python 3",
   "language": "python",
   "name": "python3"
  },
  "language_info": {
   "codemirror_mode": {
    "name": "ipython",
    "version": 3
   },
   "file_extension": ".py",
   "mimetype": "text/x-python",
   "name": "python",
   "nbconvert_exporter": "python",
   "pygments_lexer": "ipython3",
   "version": "3.6.9"
  }
 },
 "nbformat": 4,
 "nbformat_minor": 4
}
