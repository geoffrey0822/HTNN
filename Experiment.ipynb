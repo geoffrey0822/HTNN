{
 "cells": [
  {
   "cell_type": "code",
   "execution_count": 5,
   "metadata": {},
   "outputs": [
    {
     "name": "stdout",
     "output_type": "stream",
     "text": [
      "--------Final Output-----------\n",
      "tensor([[0.0122, 0.0053, 0.0046, 0.0059, 0.0453, 0.0185, 0.0133, 0.0291]],\n",
      "       grad_fn=<MulBackward0>)\n",
      "tensor(4, grad_fn=<NotImplemented>)\n",
      "tensor([[0.0122, 0.0053, 0.0046, 0.0059, 0.0453, 0.0185, 0.0133, 0.0291]],\n",
      "       grad_fn=<MulBackward0>)\n",
      "--------Partial Output---------\n",
      "[tensor([[0.3039, 0.6961]], grad_fn=<SoftmaxBackward>), tensor([[0.2153, 0.1326, 0.4005, 0.2516]], grad_fn=<SoftmaxBackward>), tensor([[0.1863, 0.0808, 0.1149, 0.1470, 0.1626, 0.0664, 0.0759, 0.1663]],\n",
      "       grad_fn=<SoftmaxBackward>)]\n",
      "tensor(0, grad_fn=<NotImplemented>)\n"
     ]
    }
   ],
   "source": [
    "import torch\n",
    "import models.layers\n",
    "from models.dummy import FeatureANN\n",
    "\n",
    "def main():\n",
    "    x_ = torch.rand(1, 128)\n",
    "    #print(x_)\n",
    "    x_.require_grad = False\n",
    "    nn = FeatureANN(128, '/datasets/dummy/set1/tree.txt', with_aux = True).cuda()\n",
    "    final_y, aux_y = nn(x_)\n",
    "    print('--------Final Output-----------')\n",
    "    print(final_y)\n",
    "    print(final_y.argmax())\n",
    "    print(final_y)\n",
    "    print('--------Partial Output---------')\n",
    "    print(aux_y)\n",
    "    print(aux_y[-1].argmax())\n",
    "    \n",
    "    #nn.eval()\n",
    "    #with torch.no_grad():\n",
    "    #    y = nn(x_)\n",
    "    #    print(y)\n",
    "\n",
    "if __name__ == '__main__':\n",
    "    device = torch.device(\"cuda:0\" if torch.cuda.is_available() else \"cpu\")\n",
    "    main()"
   ]
  },
  {
   "cell_type": "code",
   "execution_count": null,
   "metadata": {},
   "outputs": [],
   "source": [
    "import torch\n",
    "import torch.distributions as distrib\n",
    "\n",
    "x_ = torch.rand(3).view(-1,3)\n",
    "x = torch.rand((5,3))\n",
    "print(x_)\n",
    "print(x)\n",
    "\n",
    "mask = (x == x.max(dim=1, keepdim=True)[0]).view_as(x).int().float()\n",
    "print(mask)\n",
    "\n",
    "w = mask.mul(x)\n",
    "print(w)\n",
    "v = torch.mm(w, x_.t())\n",
    "    \n",
    "print(v)\n",
    "\n",
    "a = torch.rand(3,3)\n",
    "b = torch.rand(3,3)\n",
    "\n",
    "print(a)\n",
    "print(b)\n",
    "print(torch.add(a,b))\n",
    "\n",
    "#print(y)\n",
    "\n",
    "#x = distrib.Distribution.cdf(value = 0.1)\n",
    "#print(x)\n"
   ]
  }
 ],
 "metadata": {
  "kernelspec": {
   "display_name": "Python 3",
   "language": "python",
   "name": "python3"
  },
  "language_info": {
   "codemirror_mode": {
    "name": "ipython",
    "version": 3
   },
   "file_extension": ".py",
   "mimetype": "text/x-python",
   "name": "python",
   "nbconvert_exporter": "python",
   "pygments_lexer": "ipython3",
   "version": "3.6.9"
  }
 },
 "nbformat": 4,
 "nbformat_minor": 4
}
