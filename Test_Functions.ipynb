{
 "cells": [
  {
   "cell_type": "code",
   "execution_count": 1,
   "metadata": {},
   "outputs": [
    {
     "name": "stdout",
     "output_type": "stream",
     "text": [
      "Once deleted, variables cannot be recovered. Proceed (y/[n])? y\n",
      "[2 3 4 5 6 7 8 9]\n",
      "(1, 1.0)method 1 faster?True\n",
      "(3, 3.0)method 1 faster?True\n",
      "(6, 6.0)method 1 faster?True\n",
      "(10, 10.0)method 1 faster?True\n",
      "(15, 15.0)method 1 faster?True\n",
      "(21, 21.0)method 1 faster?True\n",
      "(28, 28.0)method 1 faster?True\n",
      "(36, 36.0)method 1 faster?True\n"
     ]
    }
   ],
   "source": [
    "%reset\n",
    "\n",
    "from addons import amath\n",
    "import numpy as np\n",
    "import time\n",
    "\n",
    "test_set = np.arange(2, 10, 1)\n",
    "print(test_set)\n",
    "for n in test_set:\n",
    "    start_time = time.time()\n",
    "    y1 = amath.ncr(n, r=2)\n",
    "    es_1 = time.time() - start_time\n",
    "    \n",
    "    start_time\n",
    "    y2 = amath.ncr2(n)\n",
    "    es_2 = time.time() - start_time\n",
    "    print((y1, y2), end='method 1 faster?')\n",
    "    print(es_1< es_2)"
   ]
  }
 ],
 "metadata": {
  "kernelspec": {
   "display_name": "Python 3",
   "language": "python",
   "name": "python3"
  },
  "language_info": {
   "codemirror_mode": {
    "name": "ipython",
    "version": 3
   },
   "file_extension": ".py",
   "mimetype": "text/x-python",
   "name": "python",
   "nbconvert_exporter": "python",
   "pygments_lexer": "ipython3",
   "version": "3.6.9"
  }
 },
 "nbformat": 4,
 "nbformat_minor": 4
}
