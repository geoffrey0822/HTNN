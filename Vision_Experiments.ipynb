{
 "cells": [
  {
   "cell_type": "code",
   "execution_count": 2,
   "metadata": {},
   "outputs": [
    {
     "name": "stdout",
     "output_type": "stream",
     "text": [
      "{0: [0, 0], 1: [0, 0], 2: [1, 0], 3: [1, 0], 4: [2, 1], 5: [2, 1], 6: [3, 1], 7: [3, 1]}\n"
     ]
    }
   ],
   "source": [
    "import torch\n",
    "import random\n",
    "import cv2\n",
    "import models.layers\n",
    "import addons.trees as trees\n",
    "from models.vision import HTCNN\n",
    "\n",
    "def loadData(data_path, data_file):\n",
    "    output = []\n",
    "    with open(data_file, 'r') as f:\n",
    "        for ln in f:\n",
    "            fields = ln.rstrip('\\n').split(',')\n",
    "            output.append([os.path.join(data_path,fields[0]), int(fields[1])])\n",
    "            \n",
    "def loadInBatch(ds, r = 0, batchsize = 16, shuffle=False):\n",
    "    output_data = None\n",
    "    output_labels = []\n",
    "    i = 0\n",
    "    ndata = len(ds)\n",
    "    while i<batchsize:\n",
    "        data_rec = ds[r][0]\n",
    "        img_data = cv2.imread(ds[r])\n",
    "        base_label = ds[r][1]\n",
    "        data_blob = torch.tensor(img_data).float().permute(2,0,1)\n",
    "        if output_data is None:\n",
    "            output_data = torch.zeros(batchsize, img_data.shape[2], img_data.shape[0], img_data.shape[1], device=device)\n",
    "        output_data[i, ...] = img_data\n",
    "        r += 1\n",
    "        if r >= ndata:\n",
    "            r = 0\n",
    "            if shuffle:\n",
    "                random.shuffle(ds)\n",
    "        i += 1\n",
    "        \n",
    "def lookupParent(tree, upper_lv=1):\n",
    "    pass\n",
    "\n",
    "def train(dataset, label_file):\n",
    "    nn = HTCNN(label_file, with_aux = True).cuda()\n",
    "    \n",
    "def main():\n",
    "    \n",
    "    \n",
    "    #final_y, aux_y = nn(x_)\n",
    "    #print('--------Final Output-----------')\n",
    "    #print(final_y)\n",
    "    #print(final_y.argmax())\n",
    "    #print(final_y)\n",
    "    #print('--------Partial Output---------')\n",
    "    #print(aux_y)\n",
    "    #print(aux_y[-1].argmax())\n",
    "    \n",
    "    #nn.eval()\n",
    "    #with torch.no_grad():\n",
    "    #    y = nn(x_)\n",
    "    #    print(y)\n",
    "    pass\n",
    "\n",
    "if __name__ == '__main__':\n",
    "    device = torch.device(\"cuda:0\" if torch.cuda.is_available() else \"cpu\")\n",
    "    classTree = trees.build_itree('/datasets/vision/cifar100_clean/tree.txt')\n",
    "    #classTree = trees.build_itree('/datasets/dummy/set1/tree.txt')\n",
    "    main()"
   ]
  }
 ],
 "metadata": {
  "kernelspec": {
   "display_name": "Python 3",
   "language": "python",
   "name": "python3"
  },
  "language_info": {
   "codemirror_mode": {
    "name": "ipython",
    "version": 3
   },
   "file_extension": ".py",
   "mimetype": "text/x-python",
   "name": "python",
   "nbconvert_exporter": "python",
   "pygments_lexer": "ipython3",
   "version": "3.6.9"
  }
 },
 "nbformat": 4,
 "nbformat_minor": 4
}
